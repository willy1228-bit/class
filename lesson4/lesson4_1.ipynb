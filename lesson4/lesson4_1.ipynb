{
 "cells": [
  {
   "cell_type": "code",
   "execution_count": 1,
   "id": "2ce36831",
   "metadata": {},
   "outputs": [
    {
     "name": "stdout",
     "output_type": "stream",
     "text": [
      "可以考駕照!\n"
     ]
    }
   ],
   "source": [
    "age=int(input('請輸入age:'))\n",
    "\n",
    "if age >= 18:\n",
    "    print('可以考駕照!')\n",
    "else:\n",
    "    print('沒辦法考駕照')"
   ]
  },
  {
   "cell_type": "code",
   "execution_count": 8,
   "id": "8b56700c",
   "metadata": {},
   "outputs": [
    {
     "name": "stdout",
     "output_type": "stream",
     "text": [
      "300\n"
     ]
    }
   ],
   "source": [
    "#學生總分為300分\n",
    "#有些學生可以加分5%\n",
    "#如果加分超過300，就以300分為準\n",
    "\n",
    "scores=int(input('請輸入學生分數(最高300):'))\n",
    "is_add=input('學生是否符合加分條件(y,n):')\n",
    "\n",
    "if(is_add ==\"y\"):\n",
    "    scores *= 1.05\n",
    "    if scores>300:\n",
    "        scores=300\n",
    "\n",
    "print(scores)"
   ]
  }
 ],
 "metadata": {
  "kernelspec": {
   "display_name": "base",
   "language": "python",
   "name": "python3"
  },
  "language_info": {
   "codemirror_mode": {
    "name": "ipython",
    "version": 3
   },
   "file_extension": ".py",
   "mimetype": "text/x-python",
   "name": "python",
   "nbconvert_exporter": "python",
   "pygments_lexer": "ipython3",
   "version": "3.13.2"
  }
 },
 "nbformat": 4,
 "nbformat_minor": 5
}
