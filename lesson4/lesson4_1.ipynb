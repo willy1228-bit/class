{
 "cells": [
  {
   "cell_type": "code",
   "execution_count": 1,
   "id": "2ce36831",
   "metadata": {},
   "outputs": [
    {
     "name": "stdout",
     "output_type": "stream",
     "text": [
      "可以考駕照!\n"
     ]
    }
   ],
   "source": [
    "age=int(input('請輸入age:'))\n",
    "\n",
    "if age >= 18:\n",
    "    print('可以考駕照!')\n",
    "else:\n",
    "    print('沒辦法考駕照')"
   ]
  },
  {
   "cell_type": "code",
   "execution_count": null,
   "id": "8b56700c",
   "metadata": {},
   "outputs": [
    {
     "name": "stdout",
     "output_type": "stream",
     "text": [
      "262\n"
     ]
    }
   ],
   "source": [
    "#學生總分為300分\n",
    "#有些學生可以加分5%\n",
    "#如果加分超過300，就以300分為準\n",
    "\n",
    "scores=int(input('請輸入學生分數(最高300):'))\n",
    "is_add=input('學生是否符合加分條件(y,n):')\n",
    "\n",
    "if(is_add ==\"y\"):\n",
    "    scores *= 1.05\n",
    "    if scores>300:\n",
    "        scores=300\n",
    "\n",
    "print(int(scores))\n",
    "print(round(scores))"
   ]
  },
  {
   "cell_type": "code",
   "execution_count": null,
   "id": "add9e73d",
   "metadata": {},
   "outputs": [
    {
     "ename": "ValueError",
     "evalue": "invalid literal for int() with base 10: '18g'",
     "output_type": "error",
     "traceback": [
      "\u001b[31m---------------------------------------------------------------------------\u001b[39m",
      "\u001b[31mValueError\u001b[39m                                Traceback (most recent call last)",
      "\u001b[36mCell\u001b[39m\u001b[36m \u001b[39m\u001b[32mIn[14]\u001b[39m\u001b[32m, line 1\u001b[39m\n\u001b[32m----> \u001b[39m\u001b[32m1\u001b[39m money=\u001b[38;5;28;43mint\u001b[39;49m\u001b[43m(\u001b[49m\u001b[38;5;28;43minput\u001b[39;49m\u001b[43m(\u001b[49m\u001b[33;43m'\u001b[39;49m\u001b[33;43m請輸入金額:\u001b[39;49m\u001b[33;43m'\u001b[39;49m\u001b[43m)\u001b[49m\u001b[43m)\u001b[49m\n\u001b[32m      2\u001b[39m \u001b[38;5;28mprint\u001b[39m(money)\n",
      "\u001b[31mValueError\u001b[39m: invalid literal for int() with base 10: '18g'"
     ]
    }
   ],
   "source": [
    "#try......except\n",
    "try:\n",
    "    money=int(input('請輸入金額:'))\n",
    "    print(money)\n",
    "except:\n",
    "    print('出現錯誤')\n",
    "\n"
   ]
  }
 ],
 "metadata": {
  "kernelspec": {
   "display_name": "base",
   "language": "python",
   "name": "python3"
  },
  "language_info": {
   "codemirror_mode": {
    "name": "ipython",
    "version": 3
   },
   "file_extension": ".py",
   "mimetype": "text/x-python",
   "name": "python",
   "nbconvert_exporter": "python",
   "pygments_lexer": "ipython3",
   "version": "3.13.2"
  }
 },
 "nbformat": 4,
 "nbformat_minor": 5
}
