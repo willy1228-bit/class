{
 "cells": [
  {
   "cell_type": "code",
   "execution_count": 1,
   "id": "2ce36831",
   "metadata": {},
   "outputs": [
    {
     "name": "stdout",
     "output_type": "stream",
     "text": [
      "可以考駕照!\n"
     ]
    }
   ],
   "source": [
    "age=int(input('請輸入age:'))\n",
    "\n",
    "if age >= 18:\n",
    "    print('可以考駕照!')\n",
    "else:\n",
    "    print('沒辦法考駕照')"
   ]
  },
  {
   "cell_type": "code",
   "execution_count": null,
   "id": "8b56700c",
   "metadata": {},
   "outputs": [
    {
     "name": "stdout",
     "output_type": "stream",
     "text": [
      "262\n"
     ]
    }
   ],
   "source": [
    "#學生總分為300分\n",
    "#有些學生可以加分5%\n",
    "#如果加分超過300，就以300分為準\n",
    "try:\n",
    "    scores=int(input('請輸入學生分數(最高300):'))\n",
    "    is_add=input('學生是否符合加分條件(y,n):')\n",
    "\n",
    "    if(is_add ==\"y\"):\n",
    "        scores *= 1.05\n",
    "        if scores>300:\n",
    "            scores=300\n",
    "\n",
    "# print(int(scores))\n",
    "    print(round(scores))\n",
    "except ValueError:\n",
    "    print('輸入學生的分數,無法辨識')\n",
    "except:\n",
    "    print('出現錯誤,請重新執行')"
   ]
  },
  {
   "cell_type": "code",
   "execution_count": 15,
   "id": "add9e73d",
   "metadata": {},
   "outputs": [
    {
     "name": "stdout",
     "output_type": "stream",
     "text": [
      "出現錯誤\n"
     ]
    }
   ],
   "source": [
    "#try......except\n",
    "try:\n",
    "    money=int(input('請輸入金額:'))\n",
    "    print(money)\n",
    "except:\n",
    "    print('出現錯誤')\n",
    "\n"
   ]
  },
  {
   "cell_type": "code",
   "execution_count": 20,
   "id": "9578656e",
   "metadata": {},
   "outputs": [
    {
     "name": "stdout",
     "output_type": "stream",
     "text": [
      "不知名的錯誤\n",
      "應用程式結束\n"
     ]
    }
   ],
   "source": [
    "#try......except\n",
    "try:\n",
    "    money=int(input('請輸入金額:'))\n",
    "    raise Exception('手動發出錯誤')\n",
    "    print(money)\n",
    "except ValueError:\n",
    "    print('無法轉換為整數,輸入錯誤')\n",
    "except:\n",
    "    print('不知名的錯誤')\n",
    "\n",
    "print('應用程式結束')"
   ]
  },
  {
   "cell_type": "code",
   "execution_count": null,
   "id": "cf9e8871",
   "metadata": {},
   "outputs": [
    {
     "name": "stdout",
     "output_type": "stream",
     "text": [
      "分數不超過300\n",
      "400\n"
     ]
    }
   ],
   "source": [
    "#學生總分為300分\n",
    "#有些學生可以加分5%\n",
    "#如果加分超過300，就以300分為準\n",
    "try:\n",
    "    scores=int(input('請輸入學生分數(最高300):'))\n",
    "    if scores > 300:\n",
    "        raise Exception('分數不超過300')\n",
    "\n",
    "    is_add=input('學生是否符合加分條件(y,n):')\n",
    "\n",
    "    if(is_add ==\"y\"):\n",
    "        scores *= 1.05\n",
    "        if scores>300:\n",
    "            scores=300\n",
    "\n",
    "    # print(int(scores))\n",
    "        print(round(scores))\n",
    "except ValueError:\n",
    "    print('輸入學生的分數,無法辨識')\n",
    "except Exception as error:\n",
    "    print('error')\n",
    "\n",
    "print('應用程式結束')"
   ]
  }
 ],
 "metadata": {
  "kernelspec": {
   "display_name": "base",
   "language": "python",
   "name": "python3"
  },
  "language_info": {
   "codemirror_mode": {
    "name": "ipython",
    "version": 3
   },
   "file_extension": ".py",
   "mimetype": "text/x-python",
   "name": "python",
   "nbconvert_exporter": "python",
   "pygments_lexer": "ipython3",
   "version": "3.13.2"
  }
 },
 "nbformat": 4,
 "nbformat_minor": 5
}
