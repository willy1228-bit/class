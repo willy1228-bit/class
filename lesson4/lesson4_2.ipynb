{
 "cells": [
  {
   "cell_type": "code",
   "execution_count": 3,
   "id": "433a3761",
   "metadata": {},
   "outputs": [
    {
     "name": "stdout",
     "output_type": "stream",
     "text": [
      "及格\n"
     ]
    }
   ],
   "source": [
    "num=int(input('請輸入學生分數(0-100)'))\n",
    "\n",
    "if num>=90:\n",
    "    print('及格')\n",
    "elif num>=60:\n",
    "    print('優')\n",
    "else:\n",
    "    print('不及格')"
   ]
  },
  {
   "cell_type": "code",
   "execution_count": 5,
   "id": "ddbd5475",
   "metadata": {},
   "outputs": [
    {
     "name": "stdout",
     "output_type": "stream",
     "text": [
      "丁\n"
     ]
    }
   ],
   "source": [
    "num=int(input('請輸入學生分數(0-100)'))\n",
    "\n",
    "if num>=90:\n",
    "    print('優')\n",
    "elif num>=80:\n",
    "    print('甲')\n",
    "elif num>=70:\n",
    "    print('乙')\n",
    "elif num>=60:\n",
    "    print('丙')\n",
    "else:\n",
    "    print('丁')"
   ]
  },
  {
   "cell_type": "code",
   "execution_count": 9,
   "id": "499a1faa",
   "metadata": {},
   "outputs": [
    {
     "name": "stdout",
     "output_type": "stream",
     "text": [
      "您的BMI是20.83\n",
      "正常範圍\n"
     ]
    }
   ],
   "source": [
    "#計算BMI\n",
    "height=int(input(\"請輸入身高(cm):\"))\n",
    "weight=int(input('請輸入體重(kg):'))\n",
    "bmi=weight / (height / 100)**2\n",
    "print(f'您的BMI是{round(bmi,ndigits=2)}')\n",
    "\n",
    "if bmi<=18.5:\n",
    "    print('體重過輕')\n",
    "elif bmi<24:\n",
    "    print('正常範圍')\n",
    "elif bmi<27:\n",
    "    print('過重')\n",
    "elif bmi<30:\n",
    "    print('輕度肥胖')\n",
    "elif bmi<35:\n",
    "    print('中度肥胖')\n",
    "else:\n",
    "    print('重度肥胖')"
   ]
  },
  {
   "cell_type": "code",
   "execution_count": 11,
   "id": "d56f54b2",
   "metadata": {},
   "outputs": [
    {
     "data": {
      "text/plain": [
       "True"
      ]
     },
     "execution_count": 11,
     "metadata": {},
     "output_type": "execute_result"
    }
   ],
   "source": [
    "not True\n",
    "not False"
   ]
  },
  {
   "cell_type": "code",
   "execution_count": 15,
   "id": "28b032dc",
   "metadata": {},
   "outputs": [
    {
     "name": "stdout",
     "output_type": "stream",
     "text": [
      "及格\n",
      "及格\n"
     ]
    }
   ],
   "source": [
    "scores=int(input('請輸入學生分數:'))\n",
    "\n",
    "if (scores>60):\n",
    "    print('及格')\n",
    "else:\n",
    "    print('不及格')\n",
    "\n",
    "if not(scores>60):\n",
    "    print('不及格')\n",
    "else:\n",
    "    print('及格')\n"
   ]
  }
 ],
 "metadata": {
  "kernelspec": {
   "display_name": "base",
   "language": "python",
   "name": "python3"
  },
  "language_info": {
   "codemirror_mode": {
    "name": "ipython",
    "version": 3
   },
   "file_extension": ".py",
   "mimetype": "text/x-python",
   "name": "python",
   "nbconvert_exporter": "python",
   "pygments_lexer": "ipython3",
   "version": "3.13.2"
  }
 },
 "nbformat": 4,
 "nbformat_minor": 5
}
