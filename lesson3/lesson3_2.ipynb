{
 "cells": [
  {
   "cell_type": "markdown",
   "id": "b990fb74",
   "metadata": {},
   "source": [
    "##這是次標題\n",
    "###這是次次標題\n",
    "\n",
    "-這是項目符號"
   ]
  },
  {
   "cell_type": "code",
   "execution_count": 3,
   "id": "7a2ffa91",
   "metadata": {},
   "outputs": [
    {
     "name": "stdout",
     "output_type": "stream",
     "text": [
      "我的姓名robert\n",
      "==================================================\n"
     ]
    }
   ],
   "source": [
    "#字串可以使用的數學運算子(+,*)\n",
    "\n",
    "print(\"我的姓名\"+\"robert\")\n",
    "print(\"=\"*50)"
   ]
  },
  {
   "cell_type": "code",
   "execution_count": 6,
   "id": "7f7e6c12",
   "metadata": {},
   "outputs": [
    {
     "name": "stdout",
     "output_type": "stream",
     "text": [
      "我的個人資料:\n",
      "姓名:\t黃建華\n",
      "性別:\t男\n"
     ]
    }
   ],
   "source": [
    "#字串的特殊符號\n",
    "#\\n ->換行\n",
    "#\\t ->tab\n",
    "\n",
    "print(\"我的個人資料:\\n姓名:\\t黃建華\\n性別:\\t男\")"
   ]
  },
  {
   "cell_type": "code",
   "execution_count": 9,
   "id": "c90c015c",
   "metadata": {},
   "outputs": [
    {
     "name": "stdout",
     "output_type": "stream",
     "text": [
      "我的個人資料:\n",
      "姓名:   黃建華\n",
      "性別:   男\n"
     ]
    }
   ],
   "source": [
    "#多行文字\n",
    "info='''我的個人資料:\n",
    "姓名:   黃建華\n",
    "性別:   男'''\n",
    "print(info)"
   ]
  },
  {
   "cell_type": "code",
   "execution_count": null,
   "id": "1374700d",
   "metadata": {},
   "outputs": [
    {
     "name": "stdout",
     "output_type": "stream",
     "text": [
      "我有水果10個,蘋果:7顆,香蕉:3根.\n"
     ]
    }
   ],
   "source": [
    "#字串和數值變數的整合\n",
    "#利用複合指定運算\n",
    "fruits=10\n",
    "apple=7\n",
    "banana=3\n",
    "\n",
    "result=''\n",
    "\n",
    "result+='我有水果'\n",
    "result+= str(fruits)\n",
    "result+='個,蘋果:'\n",
    "result+=str(apple)\n",
    "result+='顆,香蕉:'\n",
    "result+=str(banana)\n",
    "result+='根.'\n",
    "print(result)"
   ]
  },
  {
   "cell_type": "code",
   "execution_count": null,
   "id": "ffa1d43c",
   "metadata": {},
   "outputs": [
    {
     "name": "stdout",
     "output_type": "stream",
     "text": [
      "我有水果10個,蘋果:7顆,香蕉:3根.\n"
     ]
    }
   ],
   "source": [
    "#字串和數值變數的整合\n",
    "#格式化字串\n",
    "fruits=10\n",
    "apple=7\n",
    "banana=3\n",
    "\n",
    "result=f'我有水果{fruits}個,蘋果:{apple}顆,香蕉:{banana}根.'\n",
    "\n",
    "\n",
    "print(result)"
   ]
  }
 ],
 "metadata": {
  "kernelspec": {
   "display_name": "base",
   "language": "python",
   "name": "python3"
  },
  "language_info": {
   "codemirror_mode": {
    "name": "ipython",
    "version": 3
   },
   "file_extension": ".py",
   "mimetype": "text/x-python",
   "name": "python",
   "nbconvert_exporter": "python",
   "pygments_lexer": "ipython3",
   "version": "3.13.2"
  }
 },
 "nbformat": 4,
 "nbformat_minor": 5
}
