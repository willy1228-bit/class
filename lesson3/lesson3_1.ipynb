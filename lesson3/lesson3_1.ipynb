{
 "cells": [
  {
   "cell_type": "code",
   "execution_count": 4,
   "id": "4e3d9aa6",
   "metadata": {},
   "outputs": [
    {
     "name": "stdout",
     "output_type": "stream",
     "text": [
      "Hello! world\n"
     ]
    }
   ],
   "source": [
    "print('Hello! world')"
   ]
  },
  {
   "cell_type": "code",
   "execution_count": 11,
   "id": "42785596",
   "metadata": {},
   "outputs": [
    {
     "name": "stdout",
     "output_type": "stream",
     "text": [
      "斜邊是 5.0\n"
     ]
    }
   ],
   "source": [
    "#讓使用者輸入直角三角形的對邊\n",
    "#讓使用者輸入直角三角形的鄰邊\n",
    "#計算斜邊\n",
    "import math\n",
    "\n",
    "num=int(input('請輸入對邊:'))\n",
    "num1=int(input('請輸入鄰邊:'))\n",
    "sum=math.sqrt(num1**2+num**2)\n",
    "print('斜邊是',sum)"
   ]
  },
  {
   "cell_type": "code",
   "execution_count": null,
   "id": "0b895200",
   "metadata": {},
   "outputs": [
    {
     "name": "stdout",
     "output_type": "stream",
     "text": [
      "10\n"
     ]
    }
   ],
   "source": [
    "#複合指定運算子\n",
    "n=5\n",
    "n=n+5#可覆蓋\n",
    "\n",
    "print(n)"
   ]
  },
  {
   "cell_type": "code",
   "execution_count": 14,
   "id": "bd3607d2",
   "metadata": {},
   "outputs": [
    {
     "name": "stdout",
     "output_type": "stream",
     "text": [
      "100\n"
     ]
    }
   ],
   "source": [
    "#複合指定運算子\n",
    "n=5\n",
    "n+=5#可覆蓋\n",
    "n*=10\n",
    "\n",
    "print(n)"
   ]
  }
 ],
 "metadata": {
  "kernelspec": {
   "display_name": "base",
   "language": "python",
   "name": "python3"
  },
  "language_info": {
   "codemirror_mode": {
    "name": "ipython",
    "version": 3
   },
   "file_extension": ".py",
   "mimetype": "text/x-python",
   "name": "python",
   "nbconvert_exporter": "python",
   "pygments_lexer": "ipython3",
   "version": "3.13.2"
  }
 },
 "nbformat": 4,
 "nbformat_minor": 5
}
